{
 "cells": [
  {
   "cell_type": "code",
   "execution_count": 53,
   "metadata": {
    "colab": {
     "base_uri": "https://localhost:8080/",
     "height": 34
    },
    "colab_type": "code",
    "executionInfo": {
     "elapsed": 1128,
     "status": "ok",
     "timestamp": 1596370785995,
     "user": {
      "displayName": "방승연",
      "photoUrl": "https://lh3.googleusercontent.com/a-/AOh14GhRFaBlSka099n-B7eOyYAUdultqz8a1oKzgk5d=s64",
      "userId": "18234865020509634221"
     },
     "user_tz": -540
    },
    "id": "VoFqnvcAg_5Z",
    "outputId": "31de366a-f504-4253-db2e-45bca71554f0"
   },
   "outputs": [
    {
     "name": "stdout",
     "output_type": "stream",
     "text": [
      "Drive already mounted at /content/gdrive/; to attempt to forcibly remount, call drive.mount(\"/content/gdrive/\", force_remount=True).\n"
     ]
    }
   ],
   "source": [
    "from google.colab import drive\n",
    "\n",
    "drive.mount('/content/gdrive/')"
   ]
  },
  {
   "cell_type": "markdown",
   "metadata": {},
   "source": [
    "# Load the saved model"
   ]
  },
  {
   "cell_type": "code",
   "execution_count": 54,
   "metadata": {
    "colab": {},
    "colab_type": "code",
    "executionInfo": {
     "elapsed": 21407,
     "status": "ok",
     "timestamp": 1596370808841,
     "user": {
      "displayName": "방승연",
      "photoUrl": "https://lh3.googleusercontent.com/a-/AOh14GhRFaBlSka099n-B7eOyYAUdultqz8a1oKzgk5d=s64",
      "userId": "18234865020509634221"
     },
     "user_tz": -540
    },
    "id": "y7OUVx5_gTuv"
   },
   "outputs": [],
   "source": [
    "from tensorflow import keras\n",
    "model = keras.models.load_model('/content/gdrive/My Drive/soma/good_model/yes_no')"
   ]
  },
  {
   "cell_type": "markdown",
   "metadata": {},
   "source": [
    "# Generate set of data to be predicted"
   ]
  },
  {
   "cell_type": "code",
   "execution_count": 279,
   "metadata": {
    "colab": {
     "base_uri": "https://localhost:8080/",
     "height": 34
    },
    "colab_type": "code",
    "executionInfo": {
     "elapsed": 586,
     "status": "ok",
     "timestamp": 1596388534643,
     "user": {
      "displayName": "방승연",
      "photoUrl": "https://lh3.googleusercontent.com/a-/AOh14GhRFaBlSka099n-B7eOyYAUdultqz8a1oKzgk5d=s64",
      "userId": "18234865020509634221"
     },
     "user_tz": -540
    },
    "id": "ypstK-yAkoM2",
    "outputId": "9acafdb5-1b0e-4e62-889e-eacef4105109"
   },
   "outputs": [
    {
     "name": "stdout",
     "output_type": "stream",
     "text": [
      "Found 20 images belonging to 1 classes.\n"
     ]
    }
   ],
   "source": [
    "import tensorflow as tf\n",
    "import numpy as np\n",
    "import pathlib\n",
    "from PIL import Image as IMG\n",
    "\n",
    "\n",
    "BATCH_SIZE = 64\n",
    "IMG_HEIGHT = 224\n",
    "IMG_WIDTH = 224\n",
    "\n",
    "predict_generator = tf.keras.preprocessing.image.ImageDataGenerator(\n",
    "    rescale=1./255\n",
    ")\n",
    "\n",
    "# path of images to be predicted\n",
    "predict_dir = '/content/gdrive/My Drive/soma/images/testing/'\n",
    "predict_dir = pathlib.Path(predict_dir)\n",
    " \n",
    "predict_data_gen = predict_generator.flow_from_directory(directory=str(predict_dir),\n",
    "                                                     batch_size=BATCH_SIZE,\n",
    "                                                     shuffle=False,\n",
    "                                                     target_size=(IMG_HEIGHT, IMG_WIDTH),\n",
    "                                                     class_mode='categorical')"
   ]
  },
  {
   "cell_type": "markdown",
   "metadata": {},
   "source": [
    "# Predict and save the images according to the result"
   ]
  },
  {
   "cell_type": "code",
   "execution_count": 280,
   "metadata": {
    "colab": {
     "base_uri": "https://localhost:8080/",
     "height": 323
    },
    "colab_type": "code",
    "executionInfo": {
     "elapsed": 6687,
     "status": "ok",
     "timestamp": 1596388553194,
     "user": {
      "displayName": "방승연",
      "photoUrl": "https://lh3.googleusercontent.com/a-/AOh14GhRFaBlSka099n-B7eOyYAUdultqz8a1oKzgk5d=s64",
      "userId": "18234865020509634221"
     },
     "user_tz": -540
    },
    "id": "SqAzzYIfgc0m",
    "outputId": "dbf6b811-db0b-4093-8d2d-5900c5e85b38"
   },
   "outputs": [
    {
     "name": "stdout",
     "output_type": "stream",
     "text": [
      "0th image is saved in /content/gdrive/My Drive/soma/images/predicted/no/4961.jpeg\n",
      "1th image is saved in /content/gdrive/My Drive/soma/images/predicted/no/4962.jpeg\n",
      "3th image is saved in /content/gdrive/My Drive/soma/images/predicted/no/4965.jpeg\n",
      "4th image is saved in /content/gdrive/My Drive/soma/images/predicted/no/4966.jpeg\n",
      "5th image is saved in /content/gdrive/My Drive/soma/images/predicted/yes/4967.jpeg\n",
      "6th image is saved in /content/gdrive/My Drive/soma/images/predicted/yes/4968.jpeg\n",
      "7th image is saved in /content/gdrive/My Drive/soma/images/predicted/yes/4969.jpeg\n",
      "8th image is saved in /content/gdrive/My Drive/soma/images/predicted/yes/4970.jpeg\n",
      "9th image is saved in /content/gdrive/My Drive/soma/images/predicted/no/4971.jpeg\n",
      "10th image is saved in /content/gdrive/My Drive/soma/images/predicted/no/4972.jpeg\n",
      "11th image is saved in /content/gdrive/My Drive/soma/images/predicted/no/4973.jpeg\n",
      "12th image is saved in /content/gdrive/My Drive/soma/images/predicted/no/4974.jpeg\n",
      "14th image is saved in /content/gdrive/My Drive/soma/images/predicted/no/4976.jpeg\n",
      "15th image is saved in /content/gdrive/My Drive/soma/images/predicted/no/4977.jpeg\n",
      "16th image is saved in /content/gdrive/My Drive/soma/images/predicted/no/4978.jpeg\n",
      "17th image is saved in /content/gdrive/My Drive/soma/images/predicted/no/4979.jpeg\n",
      "18th image is saved in /content/gdrive/My Drive/soma/images/predicted/no/4980.jpeg\n",
      "19th image is saved in /content/gdrive/My Drive/soma/images/predicted/no/4981.jpeg\n"
     ]
    }
   ],
   "source": [
    "#predict\n",
    "predict_batch, p_label_batch = next(predict_data_gen)\n",
    "output = model.predict_generator(predict_batch)\n",
    "\n",
    "filenames=predict_data_gen.filenames\n",
    "\n",
    "# save the image with accuracy over 80%\n",
    "for i in range(len(output)) :\n",
    "  if (max(output[i]) >= 0.8) :\n",
    "    seed = filenames[i]\n",
    "    origname = '/content/gdrive/My Drive/soma/images/testing/' + seed\n",
    "\n",
    "    if (np.argmax(output[i])==0) :     \n",
    "      newname = seed.replace('all_class','yes')\n",
    "      newname = '/content/gdrive/My Drive/soma/images/predicted/' + newname\n",
    "      img = IMG.open(origname)\n",
    "      img.save(newname)\n",
    "\n",
    "      print(str(i) +\"th image is saved in \"+newname)\n",
    "\n",
    "    else :\n",
    "      newname = seed.replace('all_class','no')\n",
    "      newname = '/content/gdrive/My Drive/soma/images/predicted/' + newname\n",
    "      img = IMG.open(origname)\n",
    "      img.save(newname)\n",
    "\n",
    "      print(str(i) +\"th image is saved in \"+newname)\n",
    "\n",
    "  else :\n",
    "    continue\n"
   ]
  },
  {
   "cell_type": "code",
   "execution_count": 206,
   "metadata": {
    "colab": {},
    "colab_type": "code",
    "executionInfo": {
     "elapsed": 631,
     "status": "ok",
     "timestamp": 1596384638214,
     "user": {
      "displayName": "방승연",
      "photoUrl": "https://lh3.googleusercontent.com/a-/AOh14GhRFaBlSka099n-B7eOyYAUdultqz8a1oKzgk5d=s64",
      "userId": "18234865020509634221"
     },
     "user_tz": -540
    },
    "id": "NNnzt72j4iuP"
   },
   "outputs": [],
   "source": []
  }
 ],
 "metadata": {
  "accelerator": "GPU",
  "colab": {
   "authorship_tag": "ABX9TyP9rEEvFqi/fqGJMhVA3i68",
   "collapsed_sections": [],
   "name": "predict.ipynb",
   "provenance": []
  },
  "kernelspec": {
   "display_name": "Python 3",
   "language": "python",
   "name": "python3"
  },
  "language_info": {
   "codemirror_mode": {
    "name": "ipython",
    "version": 3
   },
   "file_extension": ".py",
   "mimetype": "text/x-python",
   "name": "python",
   "nbconvert_exporter": "python",
   "pygments_lexer": "ipython3",
   "version": "3.7.6"
  }
 },
 "nbformat": 4,
 "nbformat_minor": 1
}
